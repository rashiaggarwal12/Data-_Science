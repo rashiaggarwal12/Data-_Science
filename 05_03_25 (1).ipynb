{
  "cells": [
    {
      "cell_type": "code",
      "execution_count": 1,
      "metadata": {
        "id": "RJJP8GOdWHB2"
      },
      "outputs": [],
      "source": [
        "#buying mobile phone"
      ]
    },
    {
      "cell_type": "code",
      "execution_count": 4,
      "metadata": {
        "colab": {
          "base_uri": "https://localhost:8080/"
        },
        "id": "gbtSM4jCWOT7",
        "outputId": "6b11900a-595d-4c7b-fc4c-39ef5ab8ba26"
      },
      "outputs": [
        {
          "name": "stdout",
          "output_type": "stream",
          "text": [
            "Enter budget:12000\n",
            "the mobile is not in budget\n"
          ]
        }
      ],
      "source": [
        "bud=int(input(\"Enter budget:\"))\n",
        "mobile=30000\n",
        "if (bud>=mobile):\n",
        "  print(\"the mobile is in budget\")\n",
        "else:\n",
        "  print(\"the mobile is not in budget\")\n"
      ]
    },
    {
      "cell_type": "code",
      "execution_count": 6,
      "metadata": {
        "colab": {
          "base_uri": "https://localhost:8080/"
        },
        "id": "eUBlAvipWW9t",
        "outputId": "d06e143f-29cd-4e5e-efe7-6470d4375af4"
      },
      "outputs": [
        {
          "name": "stdout",
          "output_type": "stream",
          "text": [
            "enter storage:135\n",
            "Not Available\n"
          ]
        }
      ],
      "source": [
        "#price of storage\n",
        "st=int(input(\"enter storage:\"))\n",
        "if st==32:\n",
        "  print(\"price is rs 15000\")\n",
        "elif st==64:\n",
        "  print(\"price is rs 20000\")\n",
        "elif st==128:\n",
        "  print(\"price is rs 30000\")\n",
        "elif st==256:\n",
        "  print(\"price is rs 40000\")\n",
        "else:\n",
        "  print('Not Available')"
      ]
    },
    {
      "cell_type": "code",
      "execution_count": 12,
      "metadata": {
        "colab": {
          "base_uri": "https://localhost:8080/"
        },
        "id": "JRWhV_lQXUId",
        "outputId": "9b90b2a8-5c85-40a6-8f19-de38f045c6ae"
      },
      "outputs": [
        {
          "name": "stdout",
          "output_type": "stream",
          "text": [
            "Enter score in 1st round:85\n",
            "selected for 2nd round\n",
            "Enter score in 2nd round:96\n",
            "selected for 3rd round\n",
            "Enter score in 3rd round:98\n",
            "Selected!!!\n"
          ]
        }
      ],
      "source": [
        "sc1=int(input(\"Enter score in 1st round:\"))\n",
        "if sc1>=80:\n",
        "  print('selected for 2nd round')\n",
        "  sc2=int(input(\"Enter score in 2nd round:\"))\n",
        "  if sc2>=70:\n",
        "    print('selected for 3rd round')\n",
        "    sc3=int(input(\"Enter score in 3rd round:\"))\n",
        "    if sc3>=60:\n",
        "      print('Selected!!!')\n",
        "    else:\n",
        "      print('Rejected')\n",
        "  else:\n",
        "      print('Rejected')\n",
        "else:\n",
        "      print('Rejected')"
      ]
    },
    {
      "cell_type": "code",
      "execution_count": 19,
      "metadata": {
        "colab": {
          "base_uri": "https://localhost:8080/"
        },
        "id": "GjJyqWEXYRwX",
        "outputId": "2f5ff638-dc4c-4309-ff24-28ce2bbca101"
      },
      "outputs": [
        {
          "name": "stdout",
          "output_type": "stream",
          "text": [
            "enter marks:39\n",
            "not in any group\n"
          ]
        }
      ],
      "source": [
        "#print group\n",
        "st=int(input(\"enter marks:\"))\n",
        "if st>=80:\n",
        "  print(\"Group 1\")\n",
        "elif st<80 and st>=60:\n",
        "  print(\"Group 2\")\n",
        "elif st<60 and st>=40:\n",
        "  print(\"Group 3\")\n",
        "else:\n",
        "  print('not in any group')"
      ]
    },
    {
      "cell_type": "code",
      "execution_count": 21,
      "metadata": {
        "colab": {
          "base_uri": "https://localhost:8080/"
        },
        "id": "7KznwnKFag9L",
        "outputId": "60c8304c-8551-4385-8476-4b1bcc2911e1"
      },
      "outputs": [
        {
          "name": "stdout",
          "output_type": "stream",
          "text": [
            "Enter username:admin\n",
            "Enter password12345\n",
            "Login successful\n"
          ]
        }
      ],
      "source": [
        "#login system\n",
        "username=input(\"Enter username:\")\n",
        "if username==\"admin\":\n",
        "  password=input(\"Enter password\")\n",
        "  if password==\"12345\":\n",
        "    print(\"Login successful\")\n",
        "  else:\n",
        "    print(\"incorrect password\")\n",
        "else:\n",
        "  print(\"incorrect username\")"
      ]
    },
    {
      "cell_type": "code",
      "execution_count": 24,
      "metadata": {
        "colab": {
          "base_uri": "https://localhost:8080/"
        },
        "id": "2O2zzSQxbzv0",
        "outputId": "74aef99f-9aea-449a-bb32-f4ed193a61b7"
      },
      "outputs": [
        {
          "name": "stdout",
          "output_type": "stream",
          "text": [
            "5% 38000.0\n",
            "10% 34200.0\n",
            "15% 29070.0\n",
            "20% 23256.0\n"
          ]
        }
      ],
      "source": [
        "price=40000\n",
        "#without loop discount\n",
        "price=price-(price/100)*5\n",
        "print (\"5%\",price)\n",
        "price=price-(price/100)*10\n",
        "print (\"10%\",price)\n",
        "price=price-(price/100)*15\n",
        "print (\"15%\",price)\n",
        "price=price-(price/100)*20\n",
        "print (\"20%\",price)"
      ]
    },
    {
      "cell_type": "code",
      "execution_count": 25,
      "metadata": {
        "colab": {
          "base_uri": "https://localhost:8080/"
        },
        "id": "BzxDNBg1d9WQ",
        "outputId": "2e330083-0141-4522-95e0-b9dc58db9f4d"
      },
      "outputs": [
        {
          "name": "stdout",
          "output_type": "stream",
          "text": [
            "5% 38000.0\n",
            "5% 34200.0\n",
            "5% 29070.0\n",
            "5% 23256.0\n"
          ]
        }
      ],
      "source": [
        "#with loop\n",
        "price=40000\n",
        "for i in range(5,21,5):\n",
        "  price=price-(price/100)*i\n",
        "  print (\"5%\",price)"
      ]
    },
    {
      "cell_type": "code",
      "execution_count": 27,
      "metadata": {
        "colab": {
          "base_uri": "https://localhost:8080/"
        },
        "id": "FdGl4-gRefLn",
        "outputId": "df9bb688-536b-4283-ebed-151fb98e3777"
      },
      "outputs": [
        {
          "name": "stdout",
          "output_type": "stream",
          "text": [
            "5 % 38000.0\n",
            "10 % 34200.0\n",
            "15 % 29070.0\n",
            "20 % 23256.0\n"
          ]
        }
      ],
      "source": [
        "#while loop\n",
        "price=40000\n",
        "i=5\n",
        "while(i<21):\n",
        "  price=price-(price/100)*i\n",
        "  print (i,\"%\",price)\n",
        "  i+=5"
      ]
    },
    {
      "cell_type": "code",
      "execution_count": 28,
      "metadata": {
        "colab": {
          "base_uri": "https://localhost:8080/"
        },
        "id": "G5wiBCC8kzqf",
        "outputId": "9bf185a3-f7d7-4e09-de9b-d75d72c08669"
      },
      "outputs": [
        {
          "name": "stdout",
          "output_type": "stream",
          "text": [
            "Enter number:2\n",
            "2 * 1 = 2\n",
            "2 * 2 = 4\n",
            "2 * 3 = 6\n",
            "2 * 4 = 8\n",
            "2 * 5 = 10\n",
            "2 * 6 = 12\n",
            "2 * 7 = 14\n",
            "2 * 8 = 16\n",
            "2 * 9 = 18\n",
            "2 * 10 = 20\n"
          ]
        }
      ],
      "source": [
        "#multiplication using for loop\n",
        "table=int(input(\"Enter number:\"))\n",
        "for i in range(1,11):\n",
        "  print(table,\"*\",i,'=',table*i)"
      ]
    },
    {
      "cell_type": "code",
      "execution_count": 30,
      "metadata": {
        "colab": {
          "base_uri": "https://localhost:8080/"
        },
        "id": "lS0hxmcdlYHl",
        "outputId": "b9ad75a8-4b1c-4c7e-b8e7-da593409891b"
      },
      "outputs": [
        {
          "name": "stdout",
          "output_type": "stream",
          "text": [
            "Enter number:2\n",
            "2 * 1 = 2\n",
            "2 * 2 = 4\n",
            "2 * 3 = 6\n",
            "2 * 4 = 8\n",
            "2 * 5 = 10\n",
            "2 * 6 = 12\n",
            "2 * 7 = 14\n",
            "2 * 8 = 16\n",
            "2 * 9 = 18\n",
            "2 * 10 = 20\n"
          ]
        }
      ],
      "source": [
        "#using while\n",
        "table=int(input(\"Enter number:\"))\n",
        "i=1\n",
        "while(i<11):\n",
        "  print(table,\"*\",i,'=',table*i)\n",
        "  i+=1"
      ]
    },
    {
      "cell_type": "code",
      "execution_count": null,
      "metadata": {
        "id": "LdJDv2f9li7R"
      },
      "outputs": [],
      "source": []
    }
  ],
  "metadata": {
    "colab": {
      "provenance": []
    },
    "kernelspec": {
      "display_name": "Python 3",
      "name": "python3"
    },
    "language_info": {
      "name": "python"
    }
  },
  "nbformat": 4,
  "nbformat_minor": 0
}
