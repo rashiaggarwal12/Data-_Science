{
  "nbformat": 4,
  "nbformat_minor": 0,
  "metadata": {
    "colab": {
      "provenance": []
    },
    "kernelspec": {
      "name": "python3",
      "display_name": "Python 3"
    },
    "language_info": {
      "name": "python"
    }
  },
  "cells": [
    {
      "cell_type": "code",
      "execution_count": null,
      "metadata": {
        "colab": {
          "base_uri": "https://localhost:8080/"
        },
        "id": "f-Sxxs5wnHls",
        "outputId": "0d127948-40ad-460b-f68b-a7f42bac0b9c"
      },
      "outputs": [
        {
          "output_type": "stream",
          "name": "stdout",
          "text": [
            "Enter a number:5\n",
            "False\n"
          ]
        }
      ],
      "source": [
        "# even odd\n",
        "def evenodd(num):\n",
        "  if num%2==0:\n",
        "    return True\n",
        "  else:\n",
        "    return False\n",
        "\n",
        "num=int(input(\"Enter a number:\"))\n",
        "print(evenodd(num))"
      ]
    },
    {
      "cell_type": "code",
      "source": [
        "#factotial\n",
        "def fact(num):\n",
        "  if num==1 or num==0:\n",
        "    return 1\n",
        "  else:\n",
        "    num=num*fact(num-1)\n",
        "  return num\n",
        "\n",
        "num=int(input(\"Enter a number:\"))\n",
        "print(fact(num))\n"
      ],
      "metadata": {
        "colab": {
          "base_uri": "https://localhost:8080/"
        },
        "id": "1ZTnMxM-nk4j",
        "outputId": "5697ea31-e696-4a09-e6f2-be0c7215215c"
      },
      "execution_count": null,
      "outputs": [
        {
          "output_type": "stream",
          "name": "stdout",
          "text": [
            "Enter a number:5\n",
            "120\n"
          ]
        }
      ]
    },
    {
      "cell_type": "code",
      "source": [
        "#Print the square of each digit in a list using map function\n",
        "numbers = [1, 2, 3, 4, 5]\n",
        "num=map(lambda x:x*x,numbers)\n",
        "print(list(num))"
      ],
      "metadata": {
        "colab": {
          "base_uri": "https://localhost:8080/"
        },
        "id": "UvH-25CpoGQ_",
        "outputId": "888d44b0-bcf1-4d9e-cbee-aa02065e52de"
      },
      "execution_count": null,
      "outputs": [
        {
          "output_type": "stream",
          "name": "stdout",
          "text": [
            "[1, 4, 9, 16, 25]\n"
          ]
        }
      ]
    },
    {
      "cell_type": "code",
      "source": [
        "#Print the even numbers in a list using filter function\n",
        "numbers = [1, 2, 3, 4, 5, 6, 7, 8, 9, 10]\n",
        "num=filter(lambda x:x%2==0,numbers)\n",
        "print(list(num))"
      ],
      "metadata": {
        "colab": {
          "base_uri": "https://localhost:8080/"
        },
        "id": "9RovYjfjp0CM",
        "outputId": "3f492510-1d13-4595-e703-caba3e001b2d"
      },
      "execution_count": null,
      "outputs": [
        {
          "output_type": "stream",
          "name": "stdout",
          "text": [
            "[2, 4, 6, 8, 10]\n"
          ]
        }
      ]
    },
    {
      "cell_type": "code",
      "source": [
        "#Multiply all the numbers in a list using reduce function\n",
        "from functools import reduce\n",
        "numbers = [1, 2.8, 3, 4, 5,17,2]\n",
        "num=reduce(lambda x,y:x*y,numbers)\n",
        "print((num))"
      ],
      "metadata": {
        "colab": {
          "base_uri": "https://localhost:8080/"
        },
        "id": "NyTYR3AdqWO_",
        "outputId": "746d0702-0700-415c-ce3f-c3e16e20e24c"
      },
      "execution_count": 4,
      "outputs": [
        {
          "output_type": "stream",
          "name": "stdout",
          "text": [
            "5711.999999999999\n"
          ]
        }
      ]
    },
    {
      "cell_type": "code",
      "source": [
        "'''1.Write a Python program to calculate the value of 'a' to the power of 'b' using recursion.\n",
        "2.Write a Python function to create and print a list where the values are the squares of numbers between 1 and 30\n",
        "3.Write a Python program to create a dictionary from two lists without losing duplicate values.\n",
        "Sample lists: ['Class-V', 'Class-VI', 'Class-VII', 'Class-VIII'], [1, 2, 2, 3]\n",
        "Expected Output: defaultdict(<class 'set'>, {'Class-V': {1}, 'Class-VI': {2}, 'Class-VII': {2}, 'Class-VIII': {3}})'''"
      ],
      "metadata": {
        "id": "LzQY1-AsqwEl"
      },
      "execution_count": null,
      "outputs": []
    },
    {
      "cell_type": "code",
      "source": [
        "def power(a, b):\n",
        "    if b == 0:\n",
        "        return 1\n",
        "    return a * power(a, b - 1)\n",
        "\n",
        "a = int(input(\"Enter base (a): \"))\n",
        "b = int(input(\"Enter exponent (b): \"))\n",
        "result = power(a, b)\n",
        "print(f\"{a} to the power of {b} is: {result}\")\n"
      ],
      "metadata": {
        "colab": {
          "base_uri": "https://localhost:8080/"
        },
        "id": "76EYjeSYrgpU",
        "outputId": "172b197d-8c40-4a38-b19b-e39ccf5398b2"
      },
      "execution_count": 1,
      "outputs": [
        {
          "output_type": "stream",
          "name": "stdout",
          "text": [
            "Enter base (a): 5\n",
            "Enter exponent (b): 2\n",
            "5 to the power of 2 is: 25\n"
          ]
        }
      ]
    },
    {
      "cell_type": "code",
      "source": [
        "def square():\n",
        "  l=[]\n",
        "  for i in range(1,31):\n",
        "    l.append(i)\n",
        "  num=map(lambda x:x*x,l)\n",
        "  print(list(num))\n",
        "\n",
        "square()"
      ],
      "metadata": {
        "colab": {
          "base_uri": "https://localhost:8080/"
        },
        "id": "IrUv9Ub8r2E-",
        "outputId": "7f023577-2146-4e6d-9a05-9bcad8fcc2a6"
      },
      "execution_count": null,
      "outputs": [
        {
          "output_type": "stream",
          "name": "stdout",
          "text": [
            "[1, 4, 9, 16, 25, 36, 49, 64, 81, 100, 121, 144, 169, 196, 225, 256, 289, 324, 361, 400, 441, 484, 529, 576, 625, 676, 729, 784, 841, 900]\n"
          ]
        }
      ]
    },
    {
      "cell_type": "code",
      "source": [
        "keys=['Class-V', 'Class-VI', 'Class-VII', 'Class-VIII']\n",
        "values=[1, 2, 2, 3]\n",
        "\n",
        "dict1=dict(zip(keys,values))\n",
        "print(dict1)"
      ],
      "metadata": {
        "colab": {
          "base_uri": "https://localhost:8080/"
        },
        "id": "ggjac6BPsXRA",
        "outputId": "037e487d-7890-4a84-894e-ef91cd2da744"
      },
      "execution_count": 5,
      "outputs": [
        {
          "output_type": "stream",
          "name": "stdout",
          "text": [
            "{'Class-V': 1, 'Class-VI': 2, 'Class-VII': 2, 'Class-VIII': 3}\n"
          ]
        }
      ]
    },
    {
      "cell_type": "code",
      "source": [
        "keys = ['a', 'b', 'c']\n",
        "values = [1, 2, 3]\n",
        "\n",
        "# Using zip() and dict() to create a dictionary\n",
        "my_dict = dict(zip(keys, values))\n",
        "print(my_dict)"
      ],
      "metadata": {
        "colab": {
          "base_uri": "https://localhost:8080/"
        },
        "id": "3rbeeqEDtHRx",
        "outputId": "a737c929-4e28-4ccd-b60d-f370d36c96d9"
      },
      "execution_count": 6,
      "outputs": [
        {
          "output_type": "stream",
          "name": "stdout",
          "text": [
            "{'a': 1, 'b': 2, 'c': 3}\n"
          ]
        }
      ]
    },
    {
      "cell_type": "markdown",
      "source": [
        "#20 march"
      ],
      "metadata": {
        "id": "nn9vq2-fmaM0"
      }
    },
    {
      "cell_type": "code",
      "source": [
        "import numpy as np"
      ],
      "metadata": {
        "id": "nM1ghv41meX3"
      },
      "execution_count": 2,
      "outputs": []
    },
    {
      "cell_type": "code",
      "source": [
        "l1=[2,3,4]\n",
        "l2=[6,7,8]\n",
        "np.array(l1)+np.array(l2)"
      ],
      "metadata": {
        "colab": {
          "base_uri": "https://localhost:8080/"
        },
        "id": "mZs8CheUmhaQ",
        "outputId": "17ac72d9-ad0a-42d2-d5bc-3a53a6a73817"
      },
      "execution_count": 3,
      "outputs": [
        {
          "output_type": "execute_result",
          "data": {
            "text/plain": [
              "array([ 8, 10, 12])"
            ]
          },
          "metadata": {},
          "execution_count": 3
        }
      ]
    },
    {
      "cell_type": "code",
      "source": [
        "l=['apple',6,'Aditya']\n",
        "t=(5,6,7,8,9)\n",
        "print(type(l))\n",
        "print(type(t))"
      ],
      "metadata": {
        "colab": {
          "base_uri": "https://localhost:8080/"
        },
        "id": "JG1Rsv9FmzRd",
        "outputId": "13ad922c-517f-41d2-fe3b-ee71a3ea5b51"
      },
      "execution_count": 7,
      "outputs": [
        {
          "output_type": "stream",
          "name": "stdout",
          "text": [
            "<class 'list'>\n",
            "<class 'tuple'>\n"
          ]
        }
      ]
    },
    {
      "cell_type": "code",
      "source": [
        "np_l=np.array(l)\n",
        "np_t=np.array(t)\n",
        "print(np_l)\n",
        "print(type(np_l))\n",
        "\n",
        "print(np_t)\n",
        "print(type(np_t))"
      ],
      "metadata": {
        "colab": {
          "base_uri": "https://localhost:8080/"
        },
        "id": "DJyVH-OFou_v",
        "outputId": "a134a272-021e-43a2-da2b-6d67e5e41c56"
      },
      "execution_count": 9,
      "outputs": [
        {
          "output_type": "stream",
          "name": "stdout",
          "text": [
            "['apple' '6' 'Aditya']\n",
            "<class 'numpy.ndarray'>\n",
            "[5 6 7 8 9]\n",
            "<class 'numpy.ndarray'>\n"
          ]
        }
      ]
    },
    {
      "cell_type": "code",
      "source": [
        "matrix1=[[1,2],[4,5],[1,8]]\n",
        "mat=np.array(matrix1)\n",
        "type(mat)"
      ],
      "metadata": {
        "colab": {
          "base_uri": "https://localhost:8080/"
        },
        "id": "cJd3fo8qsEmO",
        "outputId": "13c6e52b-6150-41e9-89f8-e84acd62805e"
      },
      "execution_count": 12,
      "outputs": [
        {
          "output_type": "execute_result",
          "data": {
            "text/plain": [
              "numpy.ndarray"
            ]
          },
          "metadata": {},
          "execution_count": 12
        }
      ]
    },
    {
      "cell_type": "code",
      "source": [
        "mat"
      ],
      "metadata": {
        "colab": {
          "base_uri": "https://localhost:8080/"
        },
        "id": "73j-56gwsQwL",
        "outputId": "e237586f-b882-48d9-c3f9-f3bce3e46392"
      },
      "execution_count": 16,
      "outputs": [
        {
          "output_type": "execute_result",
          "data": {
            "text/plain": [
              "(3, 2)"
            ]
          },
          "metadata": {},
          "execution_count": 16
        }
      ]
    },
    {
      "cell_type": "code",
      "source": [
        "mat.shape"
      ],
      "metadata": {
        "colab": {
          "base_uri": "https://localhost:8080/"
        },
        "id": "X7rZFf6cp2OG",
        "outputId": "68ab09e6-9e1f-4795-9854-05d88450595c"
      },
      "execution_count": 17,
      "outputs": [
        {
          "output_type": "execute_result",
          "data": {
            "text/plain": [
              "(3, 2)"
            ]
          },
          "metadata": {},
          "execution_count": 17
        }
      ]
    },
    {
      "cell_type": "code",
      "source": [
        "arr2=np.arange(0,10,3)#return int values at equal space intervals\n",
        "print(arr2)"
      ],
      "metadata": {
        "colab": {
          "base_uri": "https://localhost:8080/"
        },
        "id": "vPEUiogysslc",
        "outputId": "237eefbd-4d1b-41f1-be66-79c3f77a8bc5"
      },
      "execution_count": 20,
      "outputs": [
        {
          "output_type": "stream",
          "name": "stdout",
          "text": [
            "[0 3 6 9]\n"
          ]
        }
      ]
    },
    {
      "cell_type": "code",
      "source": [
        "matrix1=np.linspace(1,30,30) #return float values at equal space intervals\n",
        "matrix1"
      ],
      "metadata": {
        "colab": {
          "base_uri": "https://localhost:8080/"
        },
        "id": "0AWJsvOMswGP",
        "outputId": "bb3a162d-8cb5-4e61-b7e6-f29f5aa9bd70"
      },
      "execution_count": 40,
      "outputs": [
        {
          "output_type": "execute_result",
          "data": {
            "text/plain": [
              "array([ 1.,  2.,  3.,  4.,  5.,  6.,  7.,  8.,  9., 10., 11., 12., 13.,\n",
              "       14., 15., 16., 17., 18., 19., 20., 21., 22., 23., 24., 25., 26.,\n",
              "       27., 28., 29., 30.])"
            ]
          },
          "metadata": {},
          "execution_count": 40
        }
      ]
    },
    {
      "cell_type": "code",
      "source": [
        "np.zeros(3)"
      ],
      "metadata": {
        "colab": {
          "base_uri": "https://localhost:8080/"
        },
        "id": "Ms60LQOPtfQX",
        "outputId": "b5ac6ef2-1ad4-432c-c2f1-42d0f075dd01"
      },
      "execution_count": 22,
      "outputs": [
        {
          "output_type": "execute_result",
          "data": {
            "text/plain": [
              "array([0., 0., 0.])"
            ]
          },
          "metadata": {},
          "execution_count": 22
        }
      ]
    },
    {
      "cell_type": "code",
      "source": [
        "mat3=np.zeros([4,5])\n",
        "mat3"
      ],
      "metadata": {
        "colab": {
          "base_uri": "https://localhost:8080/"
        },
        "id": "nZ4wAASJtntx",
        "outputId": "d6bbda63-687e-4d81-9481-f9034a1196b6"
      },
      "execution_count": 25,
      "outputs": [
        {
          "output_type": "execute_result",
          "data": {
            "text/plain": [
              "array([[0., 0., 0., 0., 0.],\n",
              "       [0., 0., 0., 0., 0.],\n",
              "       [0., 0., 0., 0., 0.],\n",
              "       [0., 0., 0., 0., 0.]])"
            ]
          },
          "metadata": {},
          "execution_count": 25
        }
      ]
    },
    {
      "cell_type": "code",
      "source": [
        "mat4=np.ones([3,2]) #1. is bcoz of mathematical function with another matrix and bydefault\n",
        "mat4"
      ],
      "metadata": {
        "colab": {
          "base_uri": "https://localhost:8080/"
        },
        "id": "RAOULxR6tt3K",
        "outputId": "9ecfc7d1-245b-433d-8d6b-a6164ef6ce93"
      },
      "execution_count": 27,
      "outputs": [
        {
          "output_type": "execute_result",
          "data": {
            "text/plain": [
              "array([[1., 1.],\n",
              "       [1., 1.],\n",
              "       [1., 1.]])"
            ]
          },
          "metadata": {},
          "execution_count": 27
        }
      ]
    },
    {
      "cell_type": "code",
      "source": [
        "mat5=np.eye(5) # diagonal 1 in matrix\n",
        "mat5"
      ],
      "metadata": {
        "colab": {
          "base_uri": "https://localhost:8080/"
        },
        "id": "pUlUTc3Dt9K-",
        "outputId": "0fe37a6b-7d5a-45a9-d8c2-757ffad38418"
      },
      "execution_count": 29,
      "outputs": [
        {
          "output_type": "execute_result",
          "data": {
            "text/plain": [
              "array([[1., 0., 0., 0., 0.],\n",
              "       [0., 1., 0., 0., 0.],\n",
              "       [0., 0., 1., 0., 0.],\n",
              "       [0., 0., 0., 1., 0.],\n",
              "       [0., 0., 0., 0., 1.]])"
            ]
          },
          "metadata": {},
          "execution_count": 29
        }
      ]
    },
    {
      "cell_type": "code",
      "source": [
        "matrix1 =matrix1.reshape(1,30)\n",
        "print(matrix1)"
      ],
      "metadata": {
        "colab": {
          "base_uri": "https://localhost:8080/"
        },
        "id": "X2K0EsufuonX",
        "outputId": "d1bd1465-9f01-436f-d209-923ec5e71ea4"
      },
      "execution_count": 47,
      "outputs": [
        {
          "output_type": "stream",
          "name": "stdout",
          "text": [
            "[[ 1.  2.  3.  4.  5.  6.  7.  8.  9. 10. 11. 12. 13. 14. 15. 16. 17. 18.\n",
            "  19. 20. 21. 22. 23. 24. 25. 26. 27. 28. 29. 30.]]\n"
          ]
        }
      ]
    },
    {
      "cell_type": "code",
      "source": [
        "matrix1 = matrix1.reshape(6,5)\n",
        "print(matrix1)"
      ],
      "metadata": {
        "colab": {
          "base_uri": "https://localhost:8080/"
        },
        "id": "VavOKAj9wCTz",
        "outputId": "a8e8bedc-df36-44a8-9377-5028528f4b98"
      },
      "execution_count": 49,
      "outputs": [
        {
          "output_type": "stream",
          "name": "stdout",
          "text": [
            "[[ 1.  2.  3.  4.  5.]\n",
            " [ 6.  7.  8.  9. 10.]\n",
            " [11. 12. 13. 14. 15.]\n",
            " [16. 17. 18. 19. 20.]\n",
            " [21. 22. 23. 24. 25.]\n",
            " [26. 27. 28. 29. 30.]]\n"
          ]
        }
      ]
    }
  ]
}