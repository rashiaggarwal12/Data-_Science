{
  "nbformat": 4,
  "nbformat_minor": 0,
  "metadata": {
    "colab": {
      "provenance": []
    },
    "kernelspec": {
      "name": "python3",
      "display_name": "Python 3"
    },
    "language_info": {
      "name": "python"
    }
  },
  "cells": [
    {
      "cell_type": "code",
      "execution_count": null,
      "metadata": {
        "id": "WO1FFTHAP_xm",
        "colab": {
          "base_uri": "https://localhost:8080/"
        },
        "outputId": "3ac201a4-804e-49b8-fe1b-985997ca92a0"
      },
      "outputs": [
        {
          "output_type": "execute_result",
          "data": {
            "text/plain": [
              "['False',\n",
              " 'None',\n",
              " 'True',\n",
              " 'and',\n",
              " 'as',\n",
              " 'assert',\n",
              " 'async',\n",
              " 'await',\n",
              " 'break',\n",
              " 'class',\n",
              " 'continue',\n",
              " 'def',\n",
              " 'del',\n",
              " 'elif',\n",
              " 'else',\n",
              " 'except',\n",
              " 'finally',\n",
              " 'for',\n",
              " 'from',\n",
              " 'global',\n",
              " 'if',\n",
              " 'import',\n",
              " 'in',\n",
              " 'is',\n",
              " 'lambda',\n",
              " 'nonlocal',\n",
              " 'not',\n",
              " 'or',\n",
              " 'pass',\n",
              " 'raise',\n",
              " 'return',\n",
              " 'try',\n",
              " 'while',\n",
              " 'with',\n",
              " 'yield']"
            ]
          },
          "metadata": {},
          "execution_count": 2
        }
      ],
      "source": [
        "import keyword\n",
        "keyword.kwlist"
      ]
    },
    {
      "cell_type": "code",
      "source": [
        "print(2+2)"
      ],
      "metadata": {
        "colab": {
          "base_uri": "https://localhost:8080/"
        },
        "id": "3-9C_T9mYAHX",
        "outputId": "8daf4284-4ba3-46b1-8c0b-4316f508518d"
      },
      "execution_count": null,
      "outputs": [
        {
          "output_type": "stream",
          "name": "stdout",
          "text": [
            "4\n"
          ]
        }
      ]
    },
    {
      "cell_type": "code",
      "source": [
        "print('hello',\"world\",sep='^')"
      ],
      "metadata": {
        "colab": {
          "base_uri": "https://localhost:8080/"
        },
        "id": "rBPvvNxDYaHE",
        "outputId": "acdc4de9-bf0d-4f5e-80b4-895a0e56e024"
      },
      "execution_count": null,
      "outputs": [
        {
          "output_type": "stream",
          "name": "stdout",
          "text": [
            "hello^world\n"
          ]
        }
      ]
    },
    {
      "cell_type": "code",
      "source": [
        "print('hello',\"world\",end='$')"
      ],
      "metadata": {
        "colab": {
          "base_uri": "https://localhost:8080/"
        },
        "id": "5bJ0r82nY05-",
        "outputId": "e1d7b40f-bce2-427d-aecc-fc57915b48a7"
      },
      "execution_count": null,
      "outputs": [
        {
          "output_type": "stream",
          "name": "stdout",
          "text": [
            "hello world$"
          ]
        }
      ]
    },
    {
      "cell_type": "code",
      "source": [
        "print('hello world',2+2,\"this is python\")\n",
        "print('hello world',2+2,\"this is python\",sep=\"*\")\n",
        "print('hello world',2+2,\"this is python\",sep=\"\")\n",
        "print('hello world',2+2,\"this is python\",sep=\" \")"
      ],
      "metadata": {
        "colab": {
          "base_uri": "https://localhost:8080/"
        },
        "id": "_845Rm05Y6M2",
        "outputId": "266e31c7-6f3a-474c-d82f-d825439f4378"
      },
      "execution_count": null,
      "outputs": [
        {
          "output_type": "stream",
          "name": "stdout",
          "text": [
            "hello world 4 this is python\n",
            "hello world*4*this is python\n",
            "hello world4this is python\n",
            "hello world 4 this is python\n"
          ]
        }
      ]
    },
    {
      "cell_type": "code",
      "source": [
        "print('hello world',2+2,\"this is python\")\n",
        "print('Apple')\n",
        "print('\\n')"
      ],
      "metadata": {
        "colab": {
          "base_uri": "https://localhost:8080/"
        },
        "id": "SvyIqSi5ZnsK",
        "outputId": "b82787ee-90dc-438f-9936-516629fe3212"
      },
      "execution_count": null,
      "outputs": [
        {
          "output_type": "stream",
          "name": "stdout",
          "text": [
            "hello world 4 this is python\n",
            "Apple\n",
            "\n",
            "\n"
          ]
        }
      ]
    },
    {
      "cell_type": "code",
      "source": [
        "print('hello world',2+2,\"this is python\")\n",
        "print('Apple')"
      ],
      "metadata": {
        "colab": {
          "base_uri": "https://localhost:8080/"
        },
        "id": "gmIGy05daZ3l",
        "outputId": "e04e42a2-0122-4e68-c046-87c07e721a4f"
      },
      "execution_count": null,
      "outputs": [
        {
          "output_type": "stream",
          "name": "stdout",
          "text": [
            "hello world 4 this is python\n",
            "Apple\n"
          ]
        }
      ]
    },
    {
      "cell_type": "code",
      "source": [
        "print('hello world',2+2,\"this is python\",end=\"*\")\n",
        "print('Apple')\n",
        "print('\\n')"
      ],
      "metadata": {
        "colab": {
          "base_uri": "https://localhost:8080/"
        },
        "id": "8JfPGDgTadQk",
        "outputId": "7b0fc3d8-cd35-4d7d-f7df-7460d7eb413b"
      },
      "execution_count": null,
      "outputs": [
        {
          "output_type": "stream",
          "name": "stdout",
          "text": [
            "hello world 4 this is python*Apple\n",
            "\n",
            "\n"
          ]
        }
      ]
    },
    {
      "cell_type": "code",
      "source": [
        "print('hello world',2+2,\"this is python\",end=\"\\n\")\n",
        "print('Apple')"
      ],
      "metadata": {
        "colab": {
          "base_uri": "https://localhost:8080/"
        },
        "id": "eoI5xHzkah7A",
        "outputId": "a3ebcd8d-6dfa-459b-c766-6f662e694487"
      },
      "execution_count": null,
      "outputs": [
        {
          "output_type": "stream",
          "name": "stdout",
          "text": [
            "hello world 4 this is python\n",
            "Apple\n"
          ]
        }
      ]
    },
    {
      "cell_type": "code",
      "source": [
        "print(\"Aditya\",\"Sarin\",sep='_')"
      ],
      "metadata": {
        "colab": {
          "base_uri": "https://localhost:8080/"
        },
        "id": "3cczkczaar7v",
        "outputId": "3a486831-fd12-438b-f9ff-195847a87284"
      },
      "execution_count": null,
      "outputs": [
        {
          "output_type": "stream",
          "name": "stdout",
          "text": [
            "Aditya_Sarin\n"
          ]
        }
      ]
    },
    {
      "cell_type": "code",
      "source": [
        "print(\"Aditya\",end=\"_\")\n",
        "print(\"Sarin\")"
      ],
      "metadata": {
        "colab": {
          "base_uri": "https://localhost:8080/"
        },
        "id": "Mh3ZS7zvbzvk",
        "outputId": "1a10316c-f263-4735-98d9-bbb165217b0c"
      },
      "execution_count": null,
      "outputs": [
        {
          "output_type": "stream",
          "name": "stdout",
          "text": [
            "Aditya_Sarin\n"
          ]
        }
      ]
    },
    {
      "cell_type": "code",
      "source": [
        "c=3.25j\n",
        "print(type(c))"
      ],
      "metadata": {
        "colab": {
          "base_uri": "https://localhost:8080/"
        },
        "id": "g5wlCH4Pb9J0",
        "outputId": "f227f292-55c9-4b25-d44d-0011deb4ee8f"
      },
      "execution_count": null,
      "outputs": [
        {
          "output_type": "stream",
          "name": "stdout",
          "text": [
            "<class 'complex'>\n"
          ]
        }
      ]
    },
    {
      "cell_type": "code",
      "source": [
        "r1=range(0,5)\n",
        "print(r1)\n",
        "print(type(r1))"
      ],
      "metadata": {
        "colab": {
          "base_uri": "https://localhost:8080/"
        },
        "id": "xjZgg9gHcf0c",
        "outputId": "5c1adbc9-551a-46bf-c1c1-ed3e3c1068c6"
      },
      "execution_count": null,
      "outputs": [
        {
          "output_type": "stream",
          "name": "stdout",
          "text": [
            "range(0, 5)\n",
            "<class 'range'>\n"
          ]
        }
      ]
    },
    {
      "cell_type": "code",
      "source": [
        " l1=[1,2,3,4,5]\n",
        " l1.pop()\n",
        " l1.append(\"Aditya\")\n",
        " l2=[12,13]\n",
        " l1.extend(l2)\n",
        " l1.insert(0,\"Great\")\n",
        " l1.remove(4)\n",
        "print(l1)"
      ],
      "metadata": {
        "colab": {
          "base_uri": "https://localhost:8080/"
        },
        "id": "PEuQ0QkQc2ee",
        "outputId": "a5e73245-ba61-4e1d-ba39-aec9cd93ba08"
      },
      "execution_count": null,
      "outputs": [
        {
          "output_type": "stream",
          "name": "stdout",
          "text": [
            "['Great', 1, 2, 3, 'Aditya', 12, 13]\n"
          ]
        }
      ]
    },
    {
      "cell_type": "code",
      "source": [
        "del(l1)"
      ],
      "metadata": {
        "id": "e91BFjBBdYGZ"
      },
      "execution_count": null,
      "outputs": []
    },
    {
      "cell_type": "code",
      "source": [
        "print(l1)"
      ],
      "metadata": {
        "colab": {
          "base_uri": "https://localhost:8080/",
          "height": 146
        },
        "id": "M_Yj6CYaeGQs",
        "outputId": "76f9eb25-6ed4-4fed-fc45-8c6e54ad9a48"
      },
      "execution_count": null,
      "outputs": [
        {
          "output_type": "error",
          "ename": "NameError",
          "evalue": "name 'l1' is not defined",
          "traceback": [
            "\u001b[0;31m---------------------------------------------------------------------------\u001b[0m",
            "\u001b[0;31mNameError\u001b[0m                                 Traceback (most recent call last)",
            "\u001b[0;32m<ipython-input-28-9957399d2fc4>\u001b[0m in \u001b[0;36m<cell line: 0>\u001b[0;34m()\u001b[0m\n\u001b[0;32m----> 1\u001b[0;31m \u001b[0mprint\u001b[0m\u001b[0;34m(\u001b[0m\u001b[0ml1\u001b[0m\u001b[0;34m)\u001b[0m\u001b[0;34m\u001b[0m\u001b[0;34m\u001b[0m\u001b[0m\n\u001b[0m",
            "\u001b[0;31mNameError\u001b[0m: name 'l1' is not defined"
          ]
        }
      ]
    },
    {
      "cell_type": "code",
      "source": [
        "a=60v\n",
        "b=13\n",
        "print(a&b)#and\n",
        "print(a|b)#or\n",
        "print(a^b)#xor\n",
        "print(~a)#not\n",
        "print(a<<2)#left shift\n",
        "print(a>>2)#right  shift"
      ],
      "metadata": {
        "colab": {
          "base_uri": "https://localhost:8080/"
        },
        "id": "OXUNzLhHeaIY",
        "outputId": "3240f2c7-deea-46d5-b148-74066b297866"
      },
      "execution_count": null,
      "outputs": [
        {
          "output_type": "stream",
          "name": "stdout",
          "text": [
            "12\n",
            "61\n",
            "49\n",
            "-61\n",
            "240\n",
            "15\n"
          ]
        }
      ]
    },
    {
      "cell_type": "code",
      "source": [
        "l=int(input(\"enter length:\"))\n",
        "w=int(input(\"enter width:\"))\n",
        "area=l*w\n",
        "print(area)"
      ],
      "metadata": {
        "colab": {
          "base_uri": "https://localhost:8080/"
        },
        "id": "Qc-437zohUU3",
        "outputId": "3ff58e27-a83d-41f4-c809-28bf62b79d48"
      },
      "execution_count": null,
      "outputs": [
        {
          "output_type": "stream",
          "name": "stdout",
          "text": [
            "enter length:2\n",
            "enter width:5\n",
            "10\n"
          ]
        }
      ]
    },
    {
      "cell_type": "code",
      "source": [
        "n1=10\n",
        "n2=3\n",
        "rem=n1%n2\n",
        "q=int(n1/n2)\n",
        "print(rem)\n",
        "print(q)"
      ],
      "metadata": {
        "colab": {
          "base_uri": "https://localhost:8080/"
        },
        "id": "AmZ2XpOfnzZg",
        "outputId": "06395e42-fea1-4b87-bae7-54595ebff891"
      },
      "execution_count": null,
      "outputs": [
        {
          "output_type": "stream",
          "name": "stdout",
          "text": [
            "1\n",
            "3\n"
          ]
        }
      ]
    },
    {
      "cell_type": "code",
      "source": [
        "w=input(\"enter name:\")\n",
        "age=int(input(\"enter age:\"))\n",
        "print('hello',w,'your age next year will be',age+1,'years')"
      ],
      "metadata": {
        "colab": {
          "base_uri": "https://localhost:8080/"
        },
        "id": "uRSqyyHloLBk",
        "outputId": "a45eb796-8256-4c4e-fc28-a93bb78ae480"
      },
      "execution_count": null,
      "outputs": [
        {
          "output_type": "stream",
          "name": "stdout",
          "text": [
            "enter name:Aditya Sarin\n",
            "enter age:19\n",
            "hello Aditya Sarin your age next year will be 20 years\n"
          ]
        }
      ]
    },
    {
      "cell_type": "code",
      "source": [
        "n1=int(input(\"enter num1:\"))\n",
        "n2=int(input(\"enter num2:\"))\n",
        "c=input(\"enter choice(+,-,*,/):\")\n",
        "if c==\"+\":\n",
        "  print(n1+n2)\n",
        "elif c==\"-\":\n",
        "  print(n1-n2)\n",
        "elif c==\"*\":\n",
        "  print(n1*n2)\n",
        "elif c==\"/\":\n",
        "  print(n1/n2)\n",
        "else:\n",
        "  print('Invalid choice')"
      ],
      "metadata": {
        "colab": {
          "base_uri": "https://localhost:8080/"
        },
        "id": "11RTVVjgorHJ",
        "outputId": "85df3fea-4182-4b8d-d7b8-a502c02b78cf"
      },
      "execution_count": null,
      "outputs": [
        {
          "output_type": "stream",
          "name": "stdout",
          "text": [
            "enter num1:10\n",
            "enter num2:20\n",
            "enter choice(+,-,*,/):+\n",
            "30\n"
          ]
        }
      ]
    },
    {
      "cell_type": "code",
      "source": [],
      "metadata": {
        "id": "xejdG_Ndpikz"
      },
      "execution_count": null,
      "outputs": []
    }
  ]
}