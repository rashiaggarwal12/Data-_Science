{
  "nbformat": 4,
  "nbformat_minor": 0,
  "metadata": {
    "colab": {
      "provenance": []
    },
    "kernelspec": {
      "name": "python3",
      "display_name": "Python 3"
    },
    "language_info": {
      "name": "python"
    }
  },
  "cells": [
    {
      "cell_type": "code",
      "execution_count": 2,
      "metadata": {
        "colab": {
          "base_uri": "https://localhost:8080/"
        },
        "id": "CCR60H55iqZJ",
        "outputId": "65470711-8134-4a99-b15a-027d584bd65a"
      },
      "outputs": [
        {
          "output_type": "stream",
          "name": "stdout",
          "text": [
            "1\n"
          ]
        }
      ],
      "source": [
        "list1=[1,3,'appple',5,6,8]\n",
        "for i in list1:\n",
        "  print (i)\n",
        "  break"
      ]
    },
    {
      "cell_type": "code",
      "source": [
        "list1=[1,3,'appple',5,6,8]\n",
        "for i in list1:\n",
        "  if(i==5):\n",
        "    break\n",
        "  print (i)\n",
        ""
      ],
      "metadata": {
        "colab": {
          "base_uri": "https://localhost:8080/"
        },
        "id": "ZGr7mj4wjrId",
        "outputId": "3263fb4b-ca2e-491a-f65c-e841cd1ad517"
      },
      "execution_count": 5,
      "outputs": [
        {
          "output_type": "stream",
          "name": "stdout",
          "text": [
            "1\n",
            "3\n",
            "appple\n"
          ]
        }
      ]
    },
    {
      "cell_type": "code",
      "source": [
        "#number search\n",
        "l=[10,20,30,40,50,60,70]\n",
        "for i in l:\n",
        "  if (i>50):\n",
        "    print(i)\n",
        "    break"
      ],
      "metadata": {
        "colab": {
          "base_uri": "https://localhost:8080/"
        },
        "id": "92qKdZ2Ijxts",
        "outputId": "04e21ded-4464-4ffd-8634-d589e7f8faf7"
      },
      "execution_count": 6,
      "outputs": [
        {
          "output_type": "stream",
          "name": "stdout",
          "text": [
            "60\n"
          ]
        }
      ]
    },
    {
      "cell_type": "code",
      "source": [
        "#password checker\n",
        "i=0\n",
        "correct_pass='secret'\n",
        "while (i<3):\n",
        "  passw=input(\"enter password:\")\n",
        "  if passw==correct_pass:\n",
        "    print(\"Login Successful\")\n",
        "    break\n",
        "  else:\n",
        "    i+=1\n",
        "    print(\"Incorrect Password\")\n",
        "if (i==3):\n",
        "  print(\"you have entered wrong password 3 times\")"
      ],
      "metadata": {
        "colab": {
          "base_uri": "https://localhost:8080/"
        },
        "id": "LLTs1SP3kxPr",
        "outputId": "8eab7c17-094e-4e88-d3b2-3b96eca84743"
      },
      "execution_count": 10,
      "outputs": [
        {
          "output_type": "stream",
          "name": "stdout",
          "text": [
            "enter password:lohin\n",
            "Incorrect Password\n",
            "enter password:loj\n",
            "Incorrect Password\n",
            "enter password:loh\n",
            "Incorrect Password\n",
            "you have entered wrong password 3 times\n"
          ]
        }
      ]
    },
    {
      "cell_type": "code",
      "source": [
        "#sum of positive numbers\n",
        "l=[10,25,-5,30,15,-8]\n",
        "for i in l:\n",
        "  print(i,',',end='')\n",
        "s=0\n",
        "for i in l:\n",
        "  if i<0:\n",
        "    break\n",
        "  else:\n",
        "    s=s+i\n",
        "print(\"\\nsum of positive elements=\",s)\n",
        "\n",
        "\n"
      ],
      "metadata": {
        "colab": {
          "base_uri": "https://localhost:8080/"
        },
        "id": "X-L5se9JnA-V",
        "outputId": "bb6a9cfc-6db5-42ce-842a-72354c5f2c27"
      },
      "execution_count": 21,
      "outputs": [
        {
          "output_type": "stream",
          "name": "stdout",
          "text": [
            "10 ,25 ,-5 ,30 ,15 ,-8 ,\n",
            "sum of positive elements= 35\n"
          ]
        }
      ]
    },
    {
      "cell_type": "code",
      "source": [
        "n=[1,2,3,4,5,6,7,8,9,10]\n",
        "for i in n:\n",
        "  if i%2==0:\n",
        "    print(i)\n",
        "  else:\n",
        "    continue\n",
        ""
      ],
      "metadata": {
        "colab": {
          "base_uri": "https://localhost:8080/"
        },
        "id": "YUmgrjwYpbDx",
        "outputId": "d41d783c-0a31-49bc-927e-936db0e12027"
      },
      "execution_count": 22,
      "outputs": [
        {
          "output_type": "stream",
          "name": "stdout",
          "text": [
            "2\n",
            "4\n",
            "6\n",
            "8\n",
            "10\n"
          ]
        }
      ]
    },
    {
      "cell_type": "code",
      "source": [
        "n=[1,2,3,4,5,6,7,8,9,10]\n",
        "for i in n:\n",
        "  if i>=0:\n",
        "    print(i)\n",
        "  else:\n",
        "    continue\n",
        "\n"
      ],
      "metadata": {
        "colab": {
          "base_uri": "https://localhost:8080/"
        },
        "id": "KwrEVc6wrPLJ",
        "outputId": "1153a4b0-7d6b-4769-d52b-23fd34702358"
      },
      "execution_count": 26,
      "outputs": [
        {
          "output_type": "stream",
          "name": "stdout",
          "text": [
            "1\n",
            "2\n",
            "3\n",
            "4\n",
            "5\n",
            "6\n",
            "7\n",
            "8\n",
            "9\n",
            "10\n"
          ]
        }
      ]
    },
    {
      "cell_type": "code",
      "source": [
        "n=[1,2,3,4,5,6,7,8,9,10]\n",
        "for i in n:\n",
        "  if i>=0:\n",
        "    print(i)\n",
        "  else:\n",
        "    pass\n",
        ""
      ],
      "metadata": {
        "colab": {
          "base_uri": "https://localhost:8080/"
        },
        "id": "EPi1q3Kpr8Hg",
        "outputId": "7038ebd8-d59b-435a-9af4-675d02a858f8"
      },
      "execution_count": 25,
      "outputs": [
        {
          "output_type": "stream",
          "name": "stdout",
          "text": [
            "1\n",
            "2\n",
            "3\n",
            "4\n",
            "5\n",
            "6\n",
            "7\n",
            "8\n",
            "9\n",
            "10\n"
          ]
        }
      ]
    },
    {
      "cell_type": "code",
      "source": [
        "s=input(\"enter string:\")\n",
        "c=0\n",
        "for i in range(len(s)):\n",
        "  if s[i] in \"aeiouAEIOU\":\n",
        "    c+=1\n",
        "print(c)"
      ],
      "metadata": {
        "colab": {
          "base_uri": "https://localhost:8080/"
        },
        "id": "9cQF0V_BsEg8",
        "outputId": "b240edba-8efa-4f41-b1c6-7c0f3c7c9f6d"
      },
      "execution_count": 30,
      "outputs": [
        {
          "output_type": "stream",
          "name": "stdout",
          "text": [
            "enter string:adi\n",
            "2\n"
          ]
        }
      ]
    },
    {
      "cell_type": "code",
      "source": [
        "s=input(\"enter word:\")\n",
        "for i in range(len(s)-1,-1,-1):\n",
        "  print(s[i],'',end='')"
      ],
      "metadata": {
        "colab": {
          "base_uri": "https://localhost:8080/"
        },
        "id": "MAPns8tIsha3",
        "outputId": "ee27a00c-6abd-42ac-8835-dfc56a726235"
      },
      "execution_count": 37,
      "outputs": [
        {
          "output_type": "stream",
          "name": "stdout",
          "text": [
            "enter word:adi\n",
            "i d a "
          ]
        }
      ]
    },
    {
      "cell_type": "code",
      "source": [
        "n=[1,2,3,4,5,6,7,8,9,10]\n",
        "for i in n:\n",
        "  if i%2!=0:\n",
        "    pass\n",
        "  else:\n",
        "    print(i)\n",
        ""
      ],
      "metadata": {
        "colab": {
          "base_uri": "https://localhost:8080/"
        },
        "id": "dwC-FkeRtrDv",
        "outputId": "ccdd779a-fa76-4b88-f987-5d7bc2970349"
      },
      "execution_count": 38,
      "outputs": [
        {
          "output_type": "stream",
          "name": "stdout",
          "text": [
            "2\n",
            "4\n",
            "6\n",
            "8\n",
            "10\n"
          ]
        }
      ]
    },
    {
      "cell_type": "code",
      "source": [
        "#password checker\n",
        "correct_pass='secret'\n",
        "passw=input(\"enter password:\")\n",
        "if passw==correct_pass:\n",
        "  print(\"Login Successful\")\n",
        "else:\n",
        "  pass"
      ],
      "metadata": {
        "colab": {
          "base_uri": "https://localhost:8080/"
        },
        "id": "bkW2QJTHvLus",
        "outputId": "a9ab75b2-f73a-4e72-d635-f57a1b0c58da"
      },
      "execution_count": 41,
      "outputs": [
        {
          "name": "stdout",
          "output_type": "stream",
          "text": [
            "enter password:adi\n"
          ]
        }
      ]
    },
    {
      "cell_type": "code",
      "source": [],
      "metadata": {
        "id": "l1vX5CmcvjiV"
      },
      "execution_count": null,
      "outputs": []
    }
  ]
}